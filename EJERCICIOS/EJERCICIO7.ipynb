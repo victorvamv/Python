{
  "nbformat": 4,
  "nbformat_minor": 0,
  "metadata": {
    "colab": {
      "name": "EJERCICIO7.ipynb",
      "provenance": []
    },
    "kernelspec": {
      "name": "python3",
      "display_name": "Python 3"
    },
    "language_info": {
      "name": "python"
    }
  },
  "cells": [
    {
      "cell_type": "markdown",
      "source": [
        "##Ejercicio 1\n",
        "Realizar un programa que conste de una clase llamada Alumno que tenga como atributos el nombre y la nota del alumno. Definir los métodos para inicializar sus atributos, imprimirlos y mostrar un mensaje con el resultado de la nota y si ha aprobado o no.´"
      ],
      "metadata": {
        "id": "gfpLz4heSEOH"
      }
    },
    {
      "cell_type": "code",
      "execution_count": null,
      "metadata": {
        "id": "61TmHU3VR_Fm"
      },
      "outputs": [],
      "source": [
        "#Tú código aqui"
      ]
    },
    {
      "cell_type": "markdown",
      "source": [
        "#Ejercicio 2\n",
        "Realizar un programa en el cual se declaren dos valores enteros por teclado utilizando el método __init__. Calcular después la suma, resta, multiplicación y división. Utilizar un método para cada una e imprimir los resultados obtenidos. Llamar a la clase Calculadora."
      ],
      "metadata": {
        "id": "kUpMg5iASUKo"
      }
    },
    {
      "cell_type": "code",
      "source": [
        "#Tú código aqui"
      ],
      "metadata": {
        "id": "-x057yQtXqLF"
      },
      "execution_count": null,
      "outputs": []
    },
    {
      "cell_type": "markdown",
      "source": [
        "## Ejeccio 3\n",
        "Desarrollar un programa que conste de una clase padre Cuenta y dos subclases PlazoFijo y CajaAhorro. Definir los atributos titular y cantidad y un método para imprimir los datos en la clase Cuenta. La clase CajaAhorro tendrá un método para heredar los datos y uno para mostrar la información.\n",
        "\n",
        "La clase PlazoFijo tendrá dos atributos propios, plazo e interés. Tendrá un método para obtener el importe del interés (cantidad*interés/100) y otro método para mostrar la información, datos del titular plazo, interés y total de interés.\n",
        "\n",
        "Crear al menos un objeto de cada subclase."
      ],
      "metadata": {
        "id": "yuXa-sj8WFsg"
      }
    },
    {
      "cell_type": "code",
      "source": [
        "#Tú código aqui"
      ],
      "metadata": {
        "id": "h1E08whCSZuF"
      },
      "execution_count": null,
      "outputs": []
    },
    {
      "cell_type": "markdown",
      "source": [
        "# Respuestas"
      ],
      "metadata": {
        "id": "_TfTB7c7S3f6"
      }
    },
    {
      "cell_type": "code",
      "source": [
        "# inicializamos la clase\n",
        "class Alumno:\n",
        "    # inicializamos los atributos\n",
        "    def __init__(self,nombre,nota):\n",
        "        self.nombre=nombre\n",
        "        self.nota=nota\n",
        " \n",
        " \n",
        "    # función para imprimir los datos\n",
        "    def imprimir(self):\n",
        "               print(\"Nombre: \",self.nombre)\n",
        "               print(\"Nota: \",self.nota)\n",
        " \n",
        " \n",
        "    # función para obtener el resultado\n",
        "    def resultado(self):\n",
        "               if self.nota < 5:\n",
        "                    print(\"El alumno ha reprobado\")\n",
        "               else:\n",
        "                    print(\"El alumno ha aprobado\")\n",
        " \n",
        " \n",
        " \n",
        "\n",
        "# creamos los nuevos objetos\n",
        "# inicializamos los atributos\n",
        "alumno1=Alumno(\"ivan\",8)\n",
        "alumno2=Alumno(\"juan\",4)\n",
        " \n",
        "# imprimimos los datos y resultados de cada alumno\n",
        "alumno1.imprimir()\n",
        "alumno1.resultado()\n",
        "alumno2.imprimir()\n",
        "alumno2.resultado()"
      ],
      "metadata": {
        "id": "HQ_N46NOS66b"
      },
      "execution_count": null,
      "outputs": []
    },
    {
      "cell_type": "code",
      "source": [
        "# creamos la clase\n",
        "class Calculadora:\n",
        "\t# iniciamos con el método __init__\n",
        "\tdef __init__(self):\n",
        "\t\tself.valor1=int(input(\"Ingrese el primer valor: \"))\n",
        "\t\tself.valor2=int(input(\"Ingrese el segundo valor: \"))\n",
        " \n",
        "\t# metodo para sumar\n",
        "\tdef suma(self):\n",
        "\t\tsuma=self.valor1+self.valor2\n",
        "\t\tprint(\"El resultado de la suma de los valores es: \",suma)\n",
        " \n",
        "\t# metodo para restar\n",
        "\tdef resta(self):\n",
        "\t\tresta=self.valor1-self.valor2\n",
        "\t\tprint(\"El resultado de la resta de los valores es: \",resta)\n",
        " \n",
        "\t# metodo para calcular el producto\n",
        "\tdef multiplicacion(self):\n",
        "\t\tpro=self.valor1*self.valor2\n",
        "\t\tprint(\"El resultado de la multiplicación de los valores es: \",pro)\n",
        " \n",
        "\t# metodo para dividir\n",
        "\tdef division(self):\n",
        "\t\tdiv=self.valor1/self.valor2\n",
        "\t\tprint(\"El resultado de la división de los valores es: \",div)\n",
        " \n",
        "\t# metodo para imprimir\n",
        "\tdef imprimir(self):\n",
        "\t\tprint(\"Los valores son: \")\n",
        "\t\tprint(\"Valor 1: \",self.valor1)\n",
        "\t\tprint(\"Valor 2: \",self.valor2)\n",
        " \n",
        " \n",
        "\n",
        "calcular=Calculadora()\n",
        "calcular.imprimir()\n",
        "calcular.suma()\n",
        "calcular.resta()\n",
        "calcular.multiplicacion()\n",
        "calcular.division()"
      ],
      "metadata": {
        "id": "0B7oHYciUWsM"
      },
      "execution_count": null,
      "outputs": []
    },
    {
      "cell_type": "code",
      "source": [
        "# creamos la clase Cuenta\n",
        "class Cuenta:\n",
        "\t# inicializamos los atributos de la clase\n",
        "\tdef __init__(self,titular,cantidad):\n",
        "\t\tself.titular=titular\n",
        "\t\tself.cantidad=cantidad\n",
        " \n",
        "\t# imprimimos los datos\n",
        "\tdef imprimir(self):\n",
        "\t\tprint(\"Titular: \",self.titular)\n",
        "\t\tprint(\"Cantidad: \", self.cantidad)\n",
        " \n",
        " \n",
        "# creamos la clase CajaAhorro\n",
        "# esta clase hereda atributos de la clase Cuenta\n",
        "class CajaAhorro(Cuenta):\n",
        "\t# iniciamos los atributos de la clase\n",
        "\tdef __init__(self,titular,cantidad):\n",
        "\t\tsuper().__init__(titular,cantidad)\n",
        " \n",
        "\t# imprimimos los datos de la cuenta\n",
        "\tdef imprimir(self):\n",
        "\t\tprint(\"Cuenta de caja de ahorros\")\n",
        "\t\tsuper().imprimir()\n",
        " \n",
        " \n",
        "# creamos la clase PlazoFijo\n",
        "# esta clase también hereda atributos de la clase Cuenta\n",
        "class PlazoFijo(Cuenta):\n",
        "\t# inicializamos los atributos de la clase\n",
        "\tdef __init__(self,titular,cantidad,plazo,interes):\n",
        "\t\tsuper().__init__(titular,cantidad)\n",
        "\t\tself.plazo=plazo\n",
        "\t\tself.interes=interes\n",
        " \n",
        " \n",
        "\t# calculamos la ganancia\n",
        "\tdef ganancia(self):\n",
        "\t\tganancia=self.cantidad*self.interes/100\n",
        "\t\tprint(\"El importe de interés es: \",ganancia)\n",
        " \n",
        " \n",
        "\t# imprimimos los resultados\n",
        "\tdef imprimir(self):\n",
        "\t\tprint(\"Cuenta a plazo fijo\")\n",
        "\t\tsuper().imprimir()\n",
        "\t\tprint(\"Plazo disponible en días: \",self.plazo)\n",
        "\t\tprint(\"Interés: \",self.interes)\n",
        "\t\tself.ganancia()\n",
        " \n",
        " \n",
        "# bloque principal\n",
        "caja1=CajaAhorro(\"Manuel\",5000)\n",
        "caja1.imprimir()\n",
        " \n",
        "plazo1=PlazoFijo(\"Isabel\",8000,365,1.2)\n",
        "plazo1.imprimir()"
      ],
      "metadata": {
        "id": "dqqjVksXWM5T"
      },
      "execution_count": null,
      "outputs": []
    }
  ]
}