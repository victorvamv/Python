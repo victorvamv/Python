{
  "nbformat": 4,
  "nbformat_minor": 0,
  "metadata": {
    "colab": {
      "name": "ejercicio7.ipynb",
      "provenance": []
    },
    "kernelspec": {
      "name": "python3",
      "display_name": "Python 3"
    },
    "language_info": {
      "name": "python"
    }
  },
  "cells": [
    {
      "cell_type": "markdown",
      "source": [
        "## Ejercicio 1\n",
        "Vamos a crear una clase llamada Persona. Sus atributos son: nombre, edad y RFC. Construye los siguientes métodos para la clase:\n",
        "\n",
        "Un constructor, donde los datos pueden estar vacíos. Los setters y getters para cada uno de los atributos. Hay que validar las entradas de datos.\n",
        "\n",
        "mostrar(): Muestra los datos de la persona.\n",
        "\n",
        "esMayorDeEdad(): Devuelve un valor lógico indicando si es mayor de edad.\n",
        "\n",
        "\n"
      ],
      "metadata": {
        "id": "qbFgShOzJFZV"
      }
    },
    {
      "cell_type": "code",
      "source": [
        "#tu código aqui"
      ],
      "metadata": {
        "id": "4il5rdO7JMSg"
      },
      "execution_count": null,
      "outputs": []
    },
    {
      "cell_type": "markdown",
      "source": [
        "## Ejercicio 2\n",
        "Crea una clase llamada Cuenta que tendrá los siguientes atributos: titular (que es una persona) y cantidad (puede tener decimales). El titular será obligatorio y la cantidad es opcional. Construye los siguientes métodos para la clase:\n",
        "\n",
        "Un constructor, donde los datos pueden estar vacíos. Los setters y getters para cada uno de los atributos. El atributo no se puede modificar directamente, sólo ingresando o retirando dinero. mostrar(): Muestra los datos de la cuenta. ingresar(cantidad): se ingresa una cantidad a la cuenta, si la cantidad introducida es negativa, no se hará nada. retirar(cantidad): se retira una cantidad a la cuenta. La cuenta puede estar en números rojos."
      ],
      "metadata": {
        "id": "lh97_w8SJNHG"
      }
    },
    {
      "cell_type": "code",
      "source": [
        "#tu código aqui"
      ],
      "metadata": {
        "id": "42UP87rkJQC9"
      },
      "execution_count": null,
      "outputs": []
    }
  ]
}