{
  "nbformat": 4,
  "nbformat_minor": 0,
  "metadata": {
    "colab": {
      "name": "poo2.ipynb",
      "provenance": []
    },
    "kernelspec": {
      "name": "python3",
      "display_name": "Python 3"
    },
    "language_info": {
      "name": "python"
    }
  },
  "cells": [
    {
      "cell_type": "code",
      "source": [
        "class Empleado:\n",
        "\n",
        "    def __init__(self, nombre, edad, puesto, sueldo):\n",
        "        self.nombre=nombre\n",
        "        self.edad=edad\n",
        "        self.puesto=puesto\n",
        "        self.sueldoBase=sueldo\n",
        "    \n",
        "    def calcularSueldo(self, descuentos, bonos):\n",
        "        return self.sueldoBase-descuentos+bonos\n",
        "    \n",
        "\n",
        " class vendedorModulo(Empleado): #Al pasar Empleado dentro del paréntesis le estamos diciendo que hereda de Empleado metodos, en este caso solo calcularSueldo porque __init__ lo estamos reimplementando por lo que usa de la clase hija\n",
        "     #Reimplementación de método __init__ en la subclase\n",
        "     def __init__(self, modulo):\n",
        "         self.numeroModulo=modulo\n",
        "\n",
        "#Instanciar objeto de subclase\n",
        "pedro=vendedorModulo(4) #instanciamos el objeto pedro y le decimos esta en modulo 4, si quiieramos mostrar su nombre nos dará error ya que la clase no tiene ese atributo al reimplementar el metodo __init__\n",
        "print(pedro.nombre)\n",
        "print(pedro.numeroModulo) #este dato si lo muestra ya que ese atrubuto esta en un metodo que se reimplemento\n",
        "\n",
        "class vendedorModulo(Empleado): #Asi vamos a heredar los atributos de la clase padre\n",
        "    def __init__(self, nombre, edad, puesto, sueldo, modulo):\n",
        "        self.numeroModulo=modulo\n",
        "        super().__init__(nombre, edad, puesto, sueldo) #super le indica que es de la clase padre o super clase de donde los va a traer\n",
        "\n",
        "#Instanciar objeto de subclase\n",
        "pedro=vendedorModulo(4) #si pasamos ahora el argumento original nos manda error ya que ahora tene otros atributos\n",
        "print(pedro.nombre)\n",
        "\n",
        "#Instanciar objeto de subclase\n",
        "pedro=vendedorModulo(\"Pedro Martinez\", 32, \"Promotor\", 5500, 4)\n",
        "#Atributo heredado de la superclase\n",
        "print(pedro.nombre)\n",
        "print(pedro.calcularSueldo(100, 3000))\n",
        "\n",
        "#Subclase con método propio\n",
        "class chofer(Empleado):        \n",
        "    def renovar(self):  #como en esta clase no se reimplemento el metodo constructor propio hereda todos los metodos de la clase padre\n",
        "        if self.edad<50:\n",
        "            print(\"Renueva su licencia cada 1 año\")\n",
        "        else:\n",
        "            print(\"Renueva su licencia cada 6 meses\")\n",
        "\n",
        "\n",
        "luis=chofer(\"Luis Gutierrez\",56, \"chofer\", 60000)\n",
        "print(luis.renovar())"
      ],
      "metadata": {
        "id": "4VOyW3gw59Yd"
      },
      "execution_count": null,
      "outputs": []
    },
    {
      "cell_type": "code",
      "source": [
        "class Empleado:\n",
        "    def __init__(self, nombre, puesto, sueldo):\n",
        "        self.nombre=nombre\n",
        "        self.puesto=puesto\n",
        "        self.sueldoBruto=sueldo\n",
        "\n",
        "    def calcularSueldo(self, descuentos):\n",
        "        return self.sueldoBruto-descuentos\n",
        "\n",
        "class Gerente(Empleado): #esta clase es hija de la superclase Empleado, pero su metodo calcularSueldo pide parámetros distintos a la super\n",
        "    def calcularSueldo(self, descuentos, bonificaciones):\n",
        "        return self.sueldoBruto-descuentos+bonificaciones\n",
        "\n",
        "marcos=Empleado(\"Marcos Ríos\", 'chofer', 6000) #este es el objeto marcos\n",
        "julia=Gerente(\"Julia Campos\", 'gerente', 20000) #este es el objeto de la clase gerente con los mismos atributos\n",
        "\n",
        "print(marcos.calcularSueldo(3000)) #solo requiere de un atributo\n",
        "\n",
        "print(julia.calcularSueldo(1000, 2000))\n"
      ],
      "metadata": {
        "id": "f5tZR0uSLkHM"
      },
      "execution_count": null,
      "outputs": []
    }
  ]
}