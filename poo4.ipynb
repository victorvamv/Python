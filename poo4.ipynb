{
  "nbformat": 4,
  "nbformat_minor": 0,
  "metadata": {
    "colab": {
      "name": "poo4.ipynb",
      "provenance": []
    },
    "kernelspec": {
      "name": "python3",
      "display_name": "Python 3"
    },
    "language_info": {
      "name": "python"
    }
  },
  "cells": [
    {
      "cell_type": "code",
      "source": [
        "class Usuario(): \n",
        "      def __init__(self, nombre, folio): \n",
        "          self.nombre = nombre \n",
        "          self.folio = folio\n",
        "          \n",
        "      def imprimir(self):\n",
        "          return self.nombre ,self.folio     \n",
        " \n",
        "\n",
        "# Usuario2 = Usuario('Tomas', 'SAS45')\n",
        "\n",
        "# Usuario2.nombre \n",
        "\n",
        "# print(Usuario2.nombre )\n",
        "\n",
        "# print(Usuario2.folio )\n",
        "\n",
        "# Usuario2.nombre='peter'\n",
        "\n",
        "# Usuario2.imprimir()\n",
        "\n",
        "\n"
      ],
      "metadata": {
        "colab": {
          "base_uri": "https://localhost:8080/"
        },
        "id": "gpk7dzO8xbER",
        "outputId": "35fd3106-da55-4120-c963-0e77d26cd152"
      },
      "execution_count": 59,
      "outputs": [
        {
          "output_type": "stream",
          "name": "stdout",
          "text": [
            "Tomas\n",
            "SAS45\n"
          ]
        },
        {
          "output_type": "execute_result",
          "data": {
            "text/plain": [
              "('peter', 'SAS45')"
            ]
          },
          "metadata": {},
          "execution_count": 59
        }
      ]
    },
    {
      "cell_type": "code",
      "source": [
        "class Usuario(): \n",
        "      def __init__(self, nombre, folio): \n",
        "          self.__nombre = nombre \n",
        "          self.__folio = folio\n",
        "          \n",
        "      def imprimir(self):\n",
        "          return self.__nombre ,self.__folio    \n",
        "  \n",
        "\n",
        "\n",
        "# Usuario3 = Usuario('Tomas', 'SAS45')\n",
        "\n",
        "# Usuario3.nombre\n",
        "\n",
        "# Usuario3.__nombre \n",
        "\n",
        "# Usuario3.imprimir()\n",
        "\n",
        "# print (Usuario3._Usuario__nombre, Usuario3._Usuario__folio)\n",
        "\n",
        "# print(Usuario3.__nombre )\n"
      ],
      "metadata": {
        "id": "Dk2dQ2XU0GSW"
      },
      "execution_count": null,
      "outputs": []
    },
    {
      "cell_type": "code",
      "execution_count": null,
      "metadata": {
        "id": "XADuOfUXhpw3"
      },
      "outputs": [],
      "source": [
        "\n",
        "class Usuario(): #Declaramos la clase principal \n",
        "      def __init__(self, nombre, folio): #Definimos los parámetros \n",
        "          self.__nombre = nombre #Declaramos los atributos (privados ocultos)\n",
        "          self.__folio = folio\n",
        "          \n",
        "      @property\n",
        "      def nombre(self): #Definimos el método para obtener el nombre\n",
        "          return self.__nombre #Aquí simplemente estamos retornando el atributo privado oculto\n",
        "          \n",
        "  #Hasta aquí definimos los métodos para obtener los atributos ocultos o privados getter.\n",
        "  #Ahora vamos a utilizar setter y deleter para modificarlos\n",
        "  \n",
        "      @nombre.setter #Propiedad SETTER\n",
        "      def nombre(self, nuevo):\n",
        "          print (\"Modificando nombre..\")\n",
        "          self.__nombre = nuevo\n",
        "          print (\"El nombre se ha modificado por\")\n",
        "          print (self.__nombre) #Aquí vuelvo a pedir que retorne el atributo para confirmar\n",
        "\n",
        "      @property\n",
        "      def folio(self):    #Definimos el método para obtener el peso #Automáticamente GETTER\n",
        "          return self.__folio #Aquí simplemente estamos retornando el atributo privado\n",
        "                \n",
        "      @folio.setter\n",
        "      def folio(self, nuevofolio):\n",
        "          self.__folio = nuevofolio\n",
        "          print (\"El folio ahora es\")\n",
        "          print (self.__folio)\n",
        "\n",
        "# Usuario1 = Usuario('Tomas', 'SAS45')\n",
        "# print(Usuario1.folio,Usuario1.nombre)\n",
        "\n",
        "# print (Usuario1.nombre) #Imprimimos el nombre de Tomas. Se hace a través de getter, nota como ahora el método se llama ya sin el ()\n",
        "# Usuario1.nombre = 'Miguel' #Cambiamos el atributo nombre que se hace a través de setter\n",
        "# print (Usuario1.nombre) #Volvemos a imprimir\n",
        "\n",
        "# print(Usuario1.folio)\n",
        "# Usuario1.folio = 'FDF4454S'\n",
        "# print (Usuario1.folio)\n",
        "\n",
        "# print(Usuario1.folio,Usuario1.nombre)\n"
      ]
    },
    {
      "cell_type": "code",
      "source": [
        ""
      ],
      "metadata": {
        "id": "AAdKUgOMsPJR"
      },
      "execution_count": null,
      "outputs": []
    }
  ]
}