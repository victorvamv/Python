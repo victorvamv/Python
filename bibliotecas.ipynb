{
  "cells": [
    {
      "cell_type": "markdown",
      "metadata": {
        "id": "OSRGh5dqpInp"
      },
      "source": [
        "# pandas Series y marcos de datos"
      ]
    },
    {
      "cell_type": "markdown",
      "metadata": {
        "id": "1d0aAY4UpInu"
      },
      "source": [
        "## pandas\n",
        "**pandas** es una biblioteca de código abierto que proporciona estructuras de datos y herramientas de análisis de datos para programadores de Python"
      ]
    },
    {
      "cell_type": "code",
      "execution_count": 3,
      "metadata": {
        "id": "Py7khX9BpInw"
      },
      "outputs": [],
      "source": [
        "import pandas as pd"
      ]
    },
    {
      "cell_type": "markdown",
      "metadata": {
        "id": "t86xwManpInx"
      },
      "source": [
        "## Series\n",
        "Las **Series** son una matriz unidimensional, similar a una lista de Python"
      ]
    },
    {
      "cell_type": "code",
      "execution_count": null,
      "metadata": {
        "id": "ooNDtflOpIny"
      },
      "outputs": [],
      "source": [
        "ciudades = pd.Series([\n",
        "                      'Monterrey', \n",
        "                      'Guadalajara', \n",
        "                      'León', \n",
        "                      'CDMX', \n",
        "                      'Chihuahua', \n",
        "                      'Veracruz', \n",
        "                      'Nayarit'\n",
        "                      ])\n",
        "\n",
        "\n",
        "# Al usar un cuaderno, puede usar la declaración de impresión\n",
        "# print(ciudades) para examinar el contenido de una variable\n",
        "# o puede imprimir un valor en la pantalla simplemente escribiendo el nombre del objeto\n",
        "ciudades\n"
      ]
    },
    {
      "cell_type": "markdown",
      "metadata": {
        "id": "-9jvGVDkpIn0"
      },
      "source": [
        "\\Puedes hacer referencia a un valor individual en una Serie usando su índice"
      ]
    },
    {
      "cell_type": "code",
      "execution_count": null,
      "metadata": {
        "id": "cQ3CNVbhpIn1"
      },
      "outputs": [],
      "source": [
        "ciudades[1]"
      ]
    },
    {
      "cell_type": "markdown",
      "metadata": {
        "id": "Nlf9Gw8RpIn2"
      },
      "source": [
        "# Puede usar un ciclo para iterar a través de todos los valores en una Serie"
      ]
    },
    {
      "cell_type": "code",
      "execution_count": null,
      "metadata": {
        "id": "8eNvCC3mpIn4"
      },
      "outputs": [],
      "source": [
        "for ciudad in ciudades:\n",
        "    print(ciudad) "
      ]
    },
    {
      "cell_type": "markdown",
      "metadata": {
        "id": "n2sjjFiDpIn5"
      },
      "source": [
        "## DataFrame\n",
        "La mayoría de las veces, cuando trabajamos con pandas, tratamos con matrices bidimensionales.\n",
        "\n",
        "Los pandas **DataFrame** pueden almacenar arreglos bidimensionales"
      ]
    },
    {
      "cell_type": "code",
      "execution_count": null,
      "metadata": {
        "id": "qKxY92q4pIn6"
      },
      "outputs": [],
      "source": [
        "ciudades = pd.DataFrame([\n",
        "                        ['Monterrey', 'Escobedo', 'Abasolo'],\n",
        "                        ['Veracruz', 'Jalapa', 'Córdoba'],\n",
        "                        ['Guadalajara', 'Tequila', 'Puerto Vallarta'],\n",
        "                        ['Azcapotzalco', 'GAM', 'Iztapalapa'],\n",
        "                        ['Delicias', 'Parral', 'Aldama'],\n",
        "                        ['Tijuana', 'Mexicali', 'Ensenada'],\n",
        "                        ['Jérez', 'Fresnillo', 'Guadalupe']\n",
        "                        ])\n",
        "\n",
        "ciudades"
      ]
    },
    {
      "cell_type": "markdown",
      "metadata": {
        "id": "i8h9FMEupIn6"
      },
      "source": [
        "Utilice el parámetro **columnas** para especificar nombres para las columnas cuando cree el marco de datos"
      ]
    },
    {
      "cell_type": "code",
      "execution_count": null,
      "metadata": {
        "id": "IUfO5EXjpIn7"
      },
      "outputs": [],
      "source": [
        "aeropuertos_del_mundo = pd.DataFrame([\n",
        "                        ['Seatte-Tacoma', 'Seattle', 'USA'],\n",
        "                        ['Dulles', 'Washington', 'USA'],\n",
        "                        ['London Heathrow', 'Londres', 'Inglaterra'],\n",
        "                        ['Schiphol', 'Amsterdam', 'Holanda'],\n",
        "                        ['Changi', 'Singapr', 'Singapur'],\n",
        "                        ['Pearson', 'Toronto', 'Canada'],\n",
        "                        ['Narita', 'Tokyo', 'Japon']\n",
        "                        ],\n",
        "                        columns = ['Nombre', 'Ciudad', 'País']\n",
        "                        )\n",
        "\n",
        "aeropuertos_del_mundo "
      ]
    },
    {
      "cell_type": "markdown",
      "source": [
        "\n",
        "# Devolviendo las primeras n filas\n",
        "Si tiene miles de filas, es posible que desee ver las primeras filas\n",
        "\n",
        "head(n) devuelve las primeras n filas"
      ],
      "metadata": {
        "id": "8TaZeegQ61or"
      }
    },
    {
      "cell_type": "code",
      "source": [
        "aeropuertos_del_mundo.head(3)"
      ],
      "metadata": {
        "id": "RZNE-jwt65Er"
      },
      "execution_count": null,
      "outputs": []
    },
    {
      "cell_type": "markdown",
      "source": [
        "\n",
        "# Devolviendo las últimas n filas\n",
        "Mirar las últimas filas en un DataFrame puede ser una buena manera de verificar que todos sus datos se cargaron correctamente\n",
        "\n",
        "tail(n) devuelve las últimas n filas"
      ],
      "metadata": {
        "id": "FQzIt2S67FqO"
      }
    },
    {
      "cell_type": "code",
      "source": [
        "aeropuertos_del_mundo.tail(3)"
      ],
      "metadata": {
        "id": "obi-bIGL7I7w"
      },
      "execution_count": null,
      "outputs": []
    },
    {
      "cell_type": "markdown",
      "source": [
        "\n",
        "# Comprobar el número de filas y columnas en DataFrame\n",
        "A veces solo necesita saber cuántos datos tiene en el DataFrame\n",
        "\n",
        "forma devuelve el número de filas y columnas"
      ],
      "metadata": {
        "id": "3mXklu_w7N6L"
      }
    },
    {
      "cell_type": "code",
      "source": [
        "aeropuertos_del_mundo.shape"
      ],
      "metadata": {
        "id": "Y4BIntmx7Q8m"
      },
      "execution_count": null,
      "outputs": []
    },
    {
      "cell_type": "markdown",
      "source": [
        "# Obtener más información detallada sobre los contenidos de DataFrame\n",
        "info() devuelve información más detallada sobre el DataFrame\n",
        "La información devuelta incluye:\n",
        "\n",
        "* El número de filas y el rango de valores de índice\n",
        "* El número de columnas\n",
        "* Para cada columna: nombre de columna, número de valores no nulos, el tipo de datos"
      ],
      "metadata": {
        "id": "EmxtxLen7Wfm"
      }
    },
    {
      "cell_type": "code",
      "source": [
        "aeropuertos_del_mundo.info()"
      ],
      "metadata": {
        "id": "FNNxXJGs7dHT"
      },
      "execution_count": null,
      "outputs": []
    },
    {
      "cell_type": "markdown",
      "source": [
        "# Consultar un marco de datos de pandas\n",
        "Devolver una parte de los datos en un DataFrame se llama cortar o dividir los datos.\n",
        "\n"
      ],
      "metadata": {
        "id": "uRnFmPVn7ofw"
      }
    },
    {
      "cell_type": "markdown",
      "source": [
        "# Devuelve una columna\n",
        "Especifique el nombre de la columna que desea devolver\n",
        "\n",
        "Nombre del marco de datos ['nombre de la columna']"
      ],
      "metadata": {
        "id": "chrJGIW37w2A"
      }
    },
    {
      "cell_type": "code",
      "source": [
        "aeropuertos_del_mundo['Ciudad']"
      ],
      "metadata": {
        "id": "DAl2DaT170e_"
      },
      "execution_count": null,
      "outputs": []
    },
    {
      "cell_type": "markdown",
      "source": [
        "# Devolver varias columnas\n",
        "Proporcione una lista de las columnas que desea devolver\n",
        "\n",
        "DataFrameName[['FirstColumnName','SecondColumnName',...]]"
      ],
      "metadata": {
        "id": "9FqcI6Lv787h"
      }
    },
    {
      "cell_type": "code",
      "source": [
        "aeropuertos_del_mundo[['Nombre', 'País']]"
      ],
      "metadata": {
        "id": "sNmGmPs28BXb"
      },
      "execution_count": null,
      "outputs": []
    },
    {
      "cell_type": "markdown",
      "source": [
        "# Uso de iloc para especificar filas y columnas para devolver\n",
        "iloc[rows,columns] le permite acceder a un grupo de filas o columnas por posiciones de índice de fila y columna.\n",
        "\n",
        "Usted especifica la fila y la columna específicas que desea devolver\n",
        "\n",
        "La primera fila es la fila 0\n",
        "La primera columna es la columna 0"
      ],
      "metadata": {
        "id": "2mrPffBl8MXz"
      }
    },
    {
      "cell_type": "code",
      "source": [
        "aeropuertos_del_mundo.iloc[0,0]"
      ],
      "metadata": {
        "id": "Hl2AjcPl8RAs"
      },
      "execution_count": null,
      "outputs": []
    },
    {
      "cell_type": "code",
      "source": [
        "aeropuertos_del_mundo.iloc[2,2]"
      ],
      "metadata": {
        "id": "x3oyDavG8WoT"
      },
      "execution_count": null,
      "outputs": []
    },
    {
      "cell_type": "code",
      "source": [
        "aeropuertos_del_mundo.iloc[:,:]"
      ],
      "metadata": {
        "id": "2jWpjsrz8boT"
      },
      "execution_count": null,
      "outputs": []
    },
    {
      "cell_type": "code",
      "source": [
        "airporaeropuertos_del_mundots.loc[:,['Nombre', 'País']]"
      ],
      "metadata": {
        "id": "3KjlSksL8oyz"
      },
      "execution_count": null,
      "outputs": []
    }
  ],
  "metadata": {
    "kernelspec": {
      "display_name": "Python 3",
      "language": "python",
      "name": "python3"
    },
    "language_info": {
      "codemirror_mode": {
        "name": "ipython",
        "version": 3
      },
      "file_extension": ".py",
      "mimetype": "text/x-python",
      "name": "python",
      "nbconvert_exporter": "python",
      "pygments_lexer": "ipython3",
      "version": "3.6.9"
    },
    "colab": {
      "name": "bibliotecas.ipynb",
      "provenance": []
    }
  },
  "nbformat": 4,
  "nbformat_minor": 0
}