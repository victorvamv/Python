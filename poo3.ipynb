{
  "nbformat": 4,
  "nbformat_minor": 0,
  "metadata": {
    "colab": {
      "name": "poo3.ipynb",
      "provenance": []
    },
    "kernelspec": {
      "name": "python3",
      "display_name": "Python 3"
    },
    "language_info": {
      "name": "python"
    }
  },
  "cells": [
    {
      "cell_type": "markdown",
      "source": [
        "Realizamos un programa que solicita los nombres de los usuarios a registrar en el taller. El ejemplo es básico en forma estructural, trata de identificar cada parte que lo compone, después trata de hacer lo mismo pero con el paradigna POO."
      ],
      "metadata": {
        "id": "JnCyXA5tC_91"
      }
    },
    {
      "cell_type": "code",
      "execution_count": null,
      "metadata": {
        "id": "RbOF0lcqsZzI"
      },
      "outputs": [],
      "source": [
        "\n",
        "nombres = []\n",
        "folios = []\n",
        "\n",
        "while True:\n",
        "\n",
        "\n",
        "  eleccion = input(\"\"\"\n",
        "  1 - Registrar un usuario nuevo\n",
        "  2 - Mostrar usuarios\n",
        "  3 - Eliminar un usuario\n",
        "  4 - Eliminar todos los usuarios\n",
        "  5 - Salir\n",
        "  Selecciona una opción: \"\"\")\n",
        "  \n",
        "  if eleccion == \"1\":\n",
        "      nombre = input(\"Nombre del usuario: \")\n",
        "      folio = input(\"Folio del usuaro: \")\n",
        "      nombres.append(nombre)\n",
        "      folios.append(folio)\n",
        "      \n",
        "  elif eleccion == \"2\":\n",
        "     if len(nombres) == 0:\n",
        "        print('no hay usuarios')\n",
        "     else:\n",
        "        print(\"+----------+----------+\")\n",
        "        print(\"|NOMBRE    |    FOLIO |\")\n",
        "        print(\"+----------+----------+\")\n",
        "        indice = 0\n",
        "     while indice < len(nombres):\n",
        "          nombre = nombres[indice]\n",
        "          folio = folios[indice]\n",
        "          print(f'| {nombre}    |    {folio}    |')\n",
        "          print(\"+------------+----------+\")\n",
        "          indice = indice + 1\n",
        "      \n",
        "       \n",
        "  elif eleccion == \"3\":\n",
        "      nombre_usuario = input(\"Nombre del usuario que se elimina: \")\n",
        "      if nombre_usuario in nombres:\n",
        "          indice = nombres.index(nombre_usuario)\n",
        "          del nombres[indice]\n",
        "          del folios[indice]\n",
        "          print(f\"Se elimina {nombre_usuario}\")\n",
        "      else:\n",
        "          print(\"El usuario no existe\")\n",
        "\n",
        "  elif eleccion == \"4\":\n",
        "      if input(\"Seguro (s/n): \") == \"s\":\n",
        "          nombres = []\n",
        "          precios = []\n",
        "          print('se eliminaron todos los usuarios')\n",
        "\n",
        "  elif eleccion == \"5\":\n",
        "      if input(\"Seguro (s/n): \") == \"s\":\n",
        "        break\n",
        "\n",
        "  else:\n",
        "    print('Opción invalida')"
      ]
    },
    {
      "cell_type": "markdown",
      "source": [
        "Ahora usando POO escribe el código del mismo programa"
      ],
      "metadata": {
        "id": "SnuHeRzqNsQ1"
      }
    },
    {
      "cell_type": "code",
      "source": [
        "#Tú código aqui"
      ],
      "metadata": {
        "id": "h85WESgANyk-"
      },
      "execution_count": null,
      "outputs": []
    },
    {
      "cell_type": "markdown",
      "source": [
        "Ahora usando getters y setters"
      ],
      "metadata": {
        "id": "FrE_eOnJ0nmP"
      }
    },
    {
      "cell_type": "code",
      "source": [
        "#Tú código aqui"
      ],
      "metadata": {
        "id": "BNMCmw0l0zTU"
      },
      "execution_count": null,
      "outputs": []
    }
  ]
}